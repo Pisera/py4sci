{
 "cells": [
  {
   "cell_type": "markdown",
   "metadata": {
    "slideshow": {
     "slide_type": "slide"
    }
   },
   "source": [
    "# Files and paths"
   ]
  },
  {
   "cell_type": "markdown",
   "metadata": {
    "slideshow": {
     "slide_type": "slide"
    }
   },
   "source": [
    "At the start of the course, we learned how to manipulate strings, and how to read/write files. In this lecture, we go over a few useful features of Python that make it easier to deal with lists of files, as well as formatting data into strings (which can be useful for e.g. constructing filenames or writing data)"
   ]
  },
  {
   "cell_type": "markdown",
   "metadata": {
    "slideshow": {
     "slide_type": "slide"
    }
   },
   "source": [
    "## The ``glob`` module"
   ]
  },
  {
   "cell_type": "markdown",
   "metadata": {
    "slideshow": {
     "slide_type": "slide"
    }
   },
   "source": [
    "In the Linux command-line, it is possible to list multiple files matching a pattern with e.g.:\n",
    "\n",
    "    $ ls *.py\n",
    "\n",
    "This means list all files ending in ``.py``."
   ]
  },
  {
   "cell_type": "markdown",
   "metadata": {
    "slideshow": {
     "slide_type": "slide"
    }
   },
   "source": [
    "The built-in [glob](http://docs.python.org/3/library/glob.html) module allows you to do something similar from Python. The only important function here in the ``glob`` module is also called ``glob``."
   ]
  },
  {
   "cell_type": "markdown",
   "metadata": {
    "slideshow": {
     "slide_type": "slide"
    }
   },
   "source": [
    "This function can be given a pattern (such as ``*.py``) and will return a list of filenames that match:"
   ]
  },
  {
   "cell_type": "code",
   "execution_count": 1,
   "metadata": {
    "collapsed": false,
    "jupyter": {
     "outputs_hidden": false
    },
    "slideshow": {
     "slide_type": "-"
    }
   },
   "outputs": [
    {
     "data": {
      "text/plain": [
       "['10. Introduction to Numpy.ipynb',\n",
       " 'Problem Set 2.ipynb',\n",
       " '11. Introduction to Matplotlib.ipynb',\n",
       " '13. String Formatting.ipynb',\n",
       " '12. Files and paths.ipynb',\n",
       " 'Practice Problem - Monte-Carlo Error Propagation.ipynb']"
      ]
     },
     "execution_count": 1,
     "metadata": {},
     "output_type": "execute_result"
    }
   ],
   "source": [
    "import glob\n",
    "glob.glob('*.ipynb')"
   ]
  },
  {
   "cell_type": "markdown",
   "metadata": {
    "slideshow": {
     "slide_type": "slide"
    }
   },
   "source": [
    "## The ``os`` module"
   ]
  },
  {
   "cell_type": "markdown",
   "metadata": {
    "slideshow": {
     "slide_type": "slide"
    }
   },
   "source": [
    "The [os](http://docs.python.org/3/library/os.html) module allows you to interact with the system, and also contains utilities to construct or analyse file paths. The ``os.path`` sub-module is particularly useful for accessing files - for example,"
   ]
  },
  {
   "cell_type": "code",
   "execution_count": 2,
   "metadata": {
    "collapsed": false,
    "jupyter": {
     "outputs_hidden": false
    }
   },
   "outputs": [
    {
     "data": {
      "text/plain": [
       "False"
      ]
     },
     "execution_count": 2,
     "metadata": {},
     "output_type": "execute_result"
    }
   ],
   "source": [
    "import os\n",
    "os.path.exists('test.py')"
   ]
  },
  {
   "cell_type": "markdown",
   "metadata": {},
   "source": [
    "can be used to find out if a file exists."
   ]
  },
  {
   "cell_type": "markdown",
   "metadata": {
    "slideshow": {
     "slide_type": "slide"
    }
   },
   "source": [
    "When constructing the path to a file, for example ``data/file.txt``, one normally has to worry about whether this file is a Linux/Mac or a Windows file path (since Linux/Mac use ``/`` and Windows uses ``\\``). However, the ``os`` module allows you to construct file paths without worrying about this:"
   ]
  },
  {
   "cell_type": "code",
   "execution_count": 3,
   "metadata": {
    "collapsed": false,
    "jupyter": {
     "outputs_hidden": false
    }
   },
   "outputs": [
    {
     "data": {
      "text/plain": [
       "'data/file.txt'"
      ]
     },
     "execution_count": 3,
     "metadata": {},
     "output_type": "execute_result"
    }
   ],
   "source": [
    "os.path.join('data', 'file.txt')"
   ]
  },
  {
   "cell_type": "markdown",
   "metadata": {},
   "source": [
    "This can be combined with glob, for example:\n",
    "\n",
    "    glob.glob(os.path.join('data', '*.txt'))"
   ]
  },
  {
   "cell_type": "markdown",
   "metadata": {
    "slideshow": {
     "slide_type": "slide"
    }
   },
   "source": [
    "The ``os`` module also has other useful functions which you can find about from the [documentation](http://docs.python.org/3/library/os.html)."
   ]
  },
  {
   "cell_type": "markdown",
   "metadata": {},
   "source": [
    "## Exercise"
   ]
  },
  {
   "cell_type": "markdown",
   "metadata": {},
   "source": [
    "The ``os.path.getsize`` function can be used to find the size of a file in bytes. Do a loop over all the files in the current directory using ``glob`` and for each one, print out the filename and the size in kilobytes (1024 bytes):"
   ]
  },
  {
   "cell_type": "code",
   "execution_count": 26,
   "metadata": {},
   "outputs": [
    {
     "name": "stdout",
     "output_type": "stream",
     "text": [
      "Name: 10. Introduction to Numpy.ipynb, Size: 45.5 KB\n",
      "Name: 11. Introduction to Matplotlib.ipynb, Size: 505.8 KB\n",
      "Name: 12. Files and paths.ipynb, Size: 8.4 KB\n",
      "Name: 13. String Formatting.ipynb, Size: 5.5 KB\n",
      "Name: Practice Problem - Monte-Carlo Error Propagation.ipynb, Size: 4.2 KB\n",
      "Name: Problem Set 2.ipynb, Size: 7.2 KB\n"
     ]
    }
   ],
   "source": [
    "import glob\n",
    "\n",
    "file_list = glob.glob('*.ipynb')\n",
    "file_list.sort()\n",
    "\n",
    "for file in file_list:\n",
    "    size = os.path.getsize(file) / 1024\n",
    "    name = file\n",
    "    print(f\"Name: {name}, Size: {size:.1f} KB\")"
   ]
  }
 ],
 "metadata": {
  "kernelspec": {
   "display_name": "Python 3 (ipykernel)",
   "language": "python",
   "name": "python3"
  },
  "language_info": {
   "codemirror_mode": {
    "name": "ipython",
    "version": 3
   },
   "file_extension": ".py",
   "mimetype": "text/x-python",
   "name": "python",
   "nbconvert_exporter": "python",
   "pygments_lexer": "ipython3",
   "version": "3.12.2"
  }
 },
 "nbformat": 4,
 "nbformat_minor": 4
}
