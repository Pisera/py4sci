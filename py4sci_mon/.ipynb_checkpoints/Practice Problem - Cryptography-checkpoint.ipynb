{
 "cells": [
  {
   "cell_type": "markdown",
   "metadata": {},
   "source": [
    "# Practice Problem - Cryptography"
   ]
  },
  {
   "cell_type": "markdown",
   "metadata": {},
   "source": [
    "Cryptography is the study of how to make messages secret or how to read secret messages. A very simple encryption technique is called the *Caesar cipher*, which you can read up more about [here](http://en.wikipedia.org/wiki/Caesar_cipher). The basic idea is that each letter is replaced by a letter that is a certain number of letters away, so for example if the shift was 2, then A would become C, B would become D, etc. (and Z will become B)."
   ]
  },
  {
   "cell_type": "markdown",
   "metadata": {},
   "source": [
    "As we will learn in more detail tomorrow, you can write your own functions in Python, the simplest of which can take the form:"
   ]
  },
  {
   "cell_type": "code",
   "execution_count": 1,
   "metadata": {
    "collapsed": false,
    "jupyter": {
     "outputs_hidden": false
    }
   },
   "outputs": [],
   "source": [
    "def encrypt(string):\n",
    "    # do things here\n",
    "    return new_string"
   ]
  },
  {
   "cell_type": "markdown",
   "metadata": {},
   "source": [
    "Write a function that given a string and a shift, will return the encrypted string for that shift. Note that the same function can be used to decrypt a message, by passing it a negative shift. \n",
    "\n",
    "The rules are: you should only accept and return lowercase letters, and spaces should not be changed.\n",
    "\n",
    "Then, decrypt the following message, which was encrypted with a shift of 13:\n",
    "    \n",
    "    pbatenghyngvbaf lbh unir fhpprrqrq va qrpelcgvat gur fgevat    \n",
    "    \n",
    "Now if you are up for a challenge, try and decrypt this **and** find the shift:\n",
    "    \n",
    "    gwc uivioml bw nqvl bpm zqopb apqnb\n",
    "    \n",
    "Hint: there are several ways you can convert between letters and numbers. One is to use the built-in functions ``chr`` and ``ord`` (and remember you can find out more about a function by using ``?`` in IPython). Another is to set up the alphabet in a string and use item access (``[4]``) to convert from numbers to letters, and the ``index`` method to convert from letters to numbers."
   ]
  },
  {
   "cell_type": "markdown",
   "metadata": {},
   "source": [
    "## Solution"
   ]
  },
  {
   "cell_type": "code",
   "execution_count": 80,
   "metadata": {
    "collapsed": false,
    "jupyter": {
     "outputs_hidden": false
    }
   },
   "outputs": [],
   "source": [
    "\n",
    "# your solution here\n",
    "# Solution 1 \" using the built-in functions\n",
    "def encrypt(string, shift):\n",
    "    new_string = ''\n",
    "    for char in string:\n",
    "        if 97 <= ord(char) <= 122:\n",
    "            new_char = ord(char)+shift\n",
    "\n",
    "            if new_char < 97:\n",
    "                delta = 97 - new_char\n",
    "                new_num = 122 - delta + 1\n",
    "            elif new_char > 122:\n",
    "                delta = new_char - 122\n",
    "                new_num = 97 + delta - 1\n",
    "            else:\n",
    "                new_num = ord(char)+shift\n",
    "            \n",
    "            new_string = new_string + chr(new_num)\n",
    "        elif ord(char) == 32:\n",
    "            new_string = new_string + ' '\n",
    "        else:\n",
    "            new_string = \"the message does not follow the rules\"\n",
    "            break\n",
    "        \n",
    "    return new_string"
   ]
  },
  {
   "cell_type": "code",
   "execution_count": 83,
   "metadata": {},
   "outputs": [
    {
     "data": {
      "text/plain": [
       "'congratulations you have succeeded in decrypting the string'"
      ]
     },
     "execution_count": 83,
     "metadata": {},
     "output_type": "execute_result"
    }
   ],
   "source": [
    "stringa = \"pbatenghyngvbaf lbh unir fhpprrqrq va qrpelcgvat gur fgevat\"\n",
    "encrypt(stringa, 13)"
   ]
  },
  {
   "cell_type": "code",
   "execution_count": 89,
   "metadata": {},
   "outputs": [
    {
     "name": "stdout",
     "output_type": "stream",
     "text": [
      "1:   hxd vjwjpnm cx orwm cqn arpqc bqroc\n",
      "2:   iye wkxkqon dy psxn dro bsqrd crspd\n",
      "3:   jzf xlylrpo ez qtyo esp ctrse dstqe\n",
      "4:   kag ymzmsqp fa ruzp ftq dustf eturf\n",
      "5:   lbh znantrq gb svaq gur evtug fuvsg\n",
      "6:   mci aobousr hc twbr hvs fwuvh gvwth\n",
      "7:   ndj bpcpvts id uxcs iwt gxvwi hwxui\n",
      "8:   oek cqdqwut je vydt jxu hywxj ixyvj\n",
      "9:   pfl drerxvu kf wzeu kyv izxyk jyzwk\n",
      "10:   qgm esfsywv lg xafv lzw jayzl kzaxl\n",
      "11:   rhn ftgtzxw mh ybgw max kbzam labym\n",
      "12:   sio guhuayx ni zchx nby lcabn mbczn\n",
      "13:   tjp hvivbzy oj adiy ocz mdbco ncdao\n",
      "14:   ukq iwjwcaz pk bejz pda necdp odebp\n",
      "15:   vlr jxkxdba ql cfka qeb ofdeq pefcq\n",
      "16:   wms kylyecb rm dglb rfc pgefr qfgdr\n",
      "17:   xnt lzmzfdc sn ehmc sgd qhfgs rghes\n",
      "18:   you managed to find the right shift\n",
      "19:   zpv nbobhfe up gjoe uif sjhiu tijgu\n",
      "20:   aqw ocpcigf vq hkpf vjg tkijv ujkhv\n",
      "21:   brx pdqdjhg wr ilqg wkh uljkw vkliw\n",
      "22:   csy qerekih xs jmrh xli vmklx wlmjx\n",
      "23:   dtz rfsflji yt knsi ymj wnlmy xmnky\n",
      "24:   eua sgtgmkj zu lotj znk xomnz ynolz\n",
      "25:   fvb thuhnlk av mpuk aol ypnoa zopma\n"
     ]
    }
   ],
   "source": [
    "stringa = \"gwc uivioml bw nqvl bpm zqopb apqnb\"\n",
    "for shift in range(1,26):\n",
    "    result = encrypt(stringa, shift)\n",
    "    print(str(shift) + \":   \" + result) "
   ]
  },
  {
   "cell_type": "code",
   "execution_count": null,
   "metadata": {},
   "outputs": [],
   "source": []
  }
 ],
 "metadata": {
  "kernelspec": {
   "display_name": "Python 3 (ipykernel)",
   "language": "python",
   "name": "python3"
  },
  "language_info": {
   "codemirror_mode": {
    "name": "ipython",
    "version": 3
   },
   "file_extension": ".py",
   "mimetype": "text/x-python",
   "name": "python",
   "nbconvert_exporter": "python",
   "pygments_lexer": "ipython3",
   "version": "3.12.2"
  }
 },
 "nbformat": 4,
 "nbformat_minor": 4
}
