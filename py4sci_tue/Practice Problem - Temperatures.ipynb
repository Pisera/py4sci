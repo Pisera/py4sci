{
 "cells": [
  {
   "cell_type": "markdown",
   "metadata": {},
   "source": [
    "# Practice Problem - Temperatures"
   ]
  },
  {
   "cell_type": "markdown",
   "metadata": {},
   "source": [
    "Use the [data/munich_temperatures_average.txt](data/munich_temperatures_average.txt) data file, which gives the temperature in Munich every day for several years. Read in the data, and print out the minimum, average maximum temperature for each year, e.g:\n",
    "\n",
    "    1995: -3C  10C  35C\n",
    "    1996: ...\n",
    "    \n",
    "You can also try and print out the same values, but for each month (averaged over years), e.g.:\n",
    "\n",
    "    January: -15C 0C 3C\n",
    "    February: ..."
   ]
  },
  {
   "cell_type": "markdown",
   "metadata": {},
   "source": [
    "# Solution"
   ]
  },
  {
   "cell_type": "markdown",
   "metadata": {},
   "source": [
    "## STEP 1: Import Data\n",
    "Importa il file con i dati."
   ]
  },
  {
   "cell_type": "code",
   "execution_count": 189,
   "metadata": {
    "collapsed": false,
    "jupyter": {
     "outputs_hidden": false
    }
   },
   "outputs": [],
   "source": [
    "with open(\"data/munich_temperatures_average.txt\", \"r\") as file:\n",
    "    lines = file.readlines()"
   ]
  },
  {
   "cell_type": "markdown",
   "metadata": {},
   "source": [
    "## STEP 2: Data analysis and manipulation\n",
    "Osservando il file dati si osserva che ci soon 2 colonne:\n",
    "- La prima colonna contiene le date in format decimal.\n",
    "- La seconds colonna continue la temperature in gradi celsius.\n",
    "\n",
    "Di seguito vengono riportaate tre colonne di esempio:"
   ]
  },
  {
   "cell_type": "code",
   "execution_count": 190,
   "metadata": {},
   "outputs": [
    {
     "name": "stdout",
     "output_type": "stream",
     "text": [
      "1995.00274 0.944444\n",
      "\n",
      "1995.00548 -1.61111\n",
      "\n",
      "1995.00821 -3.55556\n",
      "\n"
     ]
    }
   ],
   "source": [
    "for line in lines[0:3]:\n",
    "    print(line)"
   ]
  },
  {
   "cell_type": "markdown",
   "metadata": {},
   "source": [
    "Al fine di rendere intellegibili le date creiamo una funzioni che trasformi le date dal formato **'decimal'** al formato **'date'**, chiamiamo la funzione **_decimal_year_to_date_**.\n",
    "\n",
    "Per costruire la funzione utiliziamo il modulo built-in **datetime**."
   ]
  },
  {
   "cell_type": "code",
   "execution_count": 191,
   "metadata": {},
   "outputs": [],
   "source": [
    "# Funzione decimal_year_to_date\n",
    "\n",
    "from datetime import datetime, timedelta\n",
    "\n",
    "def decimal_year_to_date(decimal_year):\n",
    "    year = int(decimal_year)  # Estrai l'anno intero\n",
    "    fraction = decimal_year - year  # Estrai la parte decimale\n",
    "\n",
    "    # Calcola il numero di giorni nell'anno (considerando gli anni bisestili)\n",
    "    days_in_year = 365 + (1 if (year % 4 == 0 and (year % 100 != 0 or year % 400 == 0)) else 0)\n",
    "\n",
    "    # Calcola il numero di giorni trascorsi nell'anno\n",
    "    days_elapsed = fraction * days_in_year\n",
    "\n",
    "    # Aggiungi i giorni al 1° gennaio dello stesso anno\n",
    "    start_date = datetime(year, 1, 1)\n",
    "    final_date = start_date + timedelta(days=days_elapsed)\n",
    "\n",
    "    return final_date"
   ]
  },
  {
   "cell_type": "markdown",
   "metadata": {},
   "source": [
    "Analiziamo ora l'output della funzione creata utilizzando il pacchetto **datetime** si può osservare che l'output di **datetime** è un parametro con type = **<class 'datetime.datetime'>**."
   ]
  },
  {
   "cell_type": "code",
   "execution_count": 192,
   "metadata": {},
   "outputs": [
    {
     "name": "stdout",
     "output_type": "stream",
     "text": [
      "1995-01-06 23:55:36.479997\n",
      "<class 'datetime.datetime'>\n",
      "\n",
      "1995-01-06\n",
      "1995\n",
      "January\n",
      "Jan\n",
      "\n",
      "1995\n",
      "1\n",
      "\n",
      "<class 'int'>\n"
     ]
    }
   ],
   "source": [
    "# Test con il tuo valore\n",
    "decimal_year = 1995.01643\n",
    "result = decimal_year_to_date(decimal_year)\n",
    "\n",
    "# Stampa risultato in formato completo\n",
    "print(result)\n",
    "print(type(result))\n",
    "print()\n",
    "# Stampa il risultato in formato leggibile\n",
    "print(result.strftime(\"%Y-%m-%d\"))  # Output: 1995-01-01\n",
    "print(result.strftime(\"%Y\"))\n",
    "print(result.strftime(\"%B\"))\n",
    "print(result.strftime(\"%b\"))\n",
    "print()\n",
    "print(result.year)\n",
    "print(result.month)\n",
    "print()\n",
    "print(type(result.month))"
   ]
  },
  {
   "cell_type": "markdown",
   "metadata": {},
   "source": [
    "## STEP 3: Riorganizzare i dati una struttura filtrabile\n",
    "\n",
    "Al fine di risolvere i due quesiti richiesti è necessario ordinare i dati in una struttura che abbia la possibilità di essere filtrata e manipolata. \n",
    "\n",
    "Una buona soluzione per rendere filtrabili i dati è quella di riordinarli in una **lista di dizionari**."
   ]
  },
  {
   "cell_type": "code",
   "execution_count": 193,
   "metadata": {},
   "outputs": [],
   "source": [
    "# Crea una list con tutti i dati necessari\n",
    "list_of_dict = []\n",
    "\n",
    "# Loop over lines and extract variables of interest\n",
    "for line in lines:\n",
    "    line = line.strip()\n",
    "    columns = line.split()\n",
    "    decimal_year = float(columns[0])\n",
    "    temp = float(columns[1])\n",
    "    date = decimal_year_to_date(decimal_year)\n",
    "    year = date.year\n",
    "    month = date.month\n",
    "    day = date.day\n",
    "    hour = date.hour\n",
    "    d = {\"year\":year, \"month\":month, \"day\":day, \"temp\":temp}\n",
    "\n",
    "    list_of_dict.append(d)"
   ]
  },
  {
   "cell_type": "markdown",
   "metadata": {},
   "source": [
    "Di seguito viene stampato il risultato della lista di dizionari e la sua architettura."
   ]
  },
  {
   "cell_type": "code",
   "execution_count": 194,
   "metadata": {},
   "outputs": [
    {
     "name": "stdout",
     "output_type": "stream",
     "text": [
      "{'year': 1995, 'month': 1, 'day': 2, 'temp': 0.944444}\n",
      "{'year': 1995, 'month': 1, 'day': 3, 'temp': -1.61111}\n",
      "{'year': 1995, 'month': 1, 'day': 3, 'temp': -3.55556}\n",
      "{'year': 1995, 'month': 1, 'day': 4, 'temp': -9.83333}\n",
      "{'year': 1995, 'month': 1, 'day': 5, 'temp': -10.2222}\n"
     ]
    }
   ],
   "source": [
    "for i in range(5):\n",
    "    print(list_of_dict[i])"
   ]
  },
  {
   "cell_type": "markdown",
   "metadata": {},
   "source": [
    "## STEP 4: CALCOLA e PRINTA minimum, average maximum temperature for each year\n",
    "    1995: -3C  10C  35C \n",
    "    1996: ...\n"
   ]
  },
  {
   "cell_type": "code",
   "execution_count": 195,
   "metadata": {},
   "outputs": [
    {
     "name": "stdout",
     "output_type": "stream",
     "text": [
      "1995: -13.3C, 8.8C, 25.9\n",
      "1996: -15.5C, 7.2C, 23.8\n",
      "1997: -12.9C, 8.5C, 21.6\n",
      "1998: -12.2C, 9.2C, 25.5\n",
      "1999: -9.8C, 9.1C, 25.3\n",
      "2000: -16.8C, 9.8C, 24.8\n",
      "2001: -12.2C, 9.0C, 24.6\n",
      "2002: -11.1C, 9.9C, 25.1\n",
      "2003: -14.3C, 9.4C, 27.7\n",
      "2004: -10.8C, 8.9C, 23.0\n",
      "2005: -14.1C, 8.2C, 25.1\n",
      "2006: -11.3C, 9.2C, 25.9\n",
      "2007: -8.8C, 9.8C, 26.3\n",
      "2008: -5.1C, 9.7C, 24.1\n",
      "2009: -10.8C, 9.4C, 23.3\n",
      "2010: -9.3C, 8.3C, 25.7\n",
      "2011: -9.3C, 9.7C, 25.5\n",
      "2012: -15.4C, 9.2C, 24.7\n",
      "2013: -7.4C, 0.6C, 11.2\n"
     ]
    }
   ],
   "source": [
    "import numpy as np\n",
    "\n",
    "# calcola il range di anni\n",
    "year_min = min(y[\"year\"] for y in list_of_dict)\n",
    "year_max = max(y[\"year\"] for y in list_of_dict)\n",
    "\n",
    "# calcola e printa la temp min avg e max per ogni anno\n",
    "for year in range(year_min, year_max+1):\n",
    "    \n",
    "    temp_min = min(sample[\"temp\"] for sample in list_of_dict if sample[\"year\"] == year)\n",
    "    temp_mean = np.mean(list(sample[\"temp\"] for sample in list_of_dict if sample[\"year\"] == year))\n",
    "    temp_max = max(sample[\"temp\"] for sample in list_of_dict if sample[\"year\"] == year)\n",
    "\n",
    "    print(f\"{year}: {temp_min:.1f}C, {temp_mean:.1f}C, {temp_max:.1f}\") "
   ]
  },
  {
   "cell_type": "markdown",
   "metadata": {},
   "source": [
    "## STEP 5: CALCOLA E PRINTA minimum, average maximum temperature for each month averaged over years\n",
    "    January: -15C 0C 3C\n",
    "    February: ...\n"
   ]
  },
  {
   "cell_type": "code",
   "execution_count": 196,
   "metadata": {},
   "outputs": [
    {
     "name": "stdout",
     "output_type": "stream",
     "text": [
      "January: -16.8C -0.9C 12.2C\n",
      "February: -15.4C 0.7C 11.9C\n",
      "March: -14.1C 4.3C 16.3C\n",
      "April: -2.1C 9.1C 20.7C\n",
      "May: 5.2C 14.0C 23.2C\n",
      "June: 7.3C 17.1C 25.1C\n",
      "July: 10.5C 18.4C 26.3C\n",
      "August: 9.5C 18.2C 27.7C\n",
      "September: 3.9C 13.7C 22.7C\n",
      "October: -1.4C 9.4C 20.5C\n",
      "November: -7.1C 3.7C 14.2C\n",
      "December: -15.5C 0.2C 11.3C\n"
     ]
    }
   ],
   "source": [
    "import numpy as np\n",
    "import calendar\n",
    "\n",
    "# calcola e printa min avg e max per ogni mese\n",
    "for month in range(1,12+1):\n",
    "    \n",
    "    temp_min = min(sample[\"temp\"] for sample in list_of_dict if sample[\"month\"] == month)\n",
    "    temp_mean = np.mean(list(sample[\"temp\"] for sample in list_of_dict if sample[\"month\"] == month))\n",
    "    temp_max = max(sample[\"temp\"] for sample in list_of_dict if sample[\"month\"] == month)\n",
    "\n",
    "    print(f\"{calendar.month_name[month]}: {temp_min:.1f}C {temp_mean:.1f}C {temp_max:.1f}C\")"
   ]
  },
  {
   "cell_type": "markdown",
   "metadata": {},
   "source": [
    "# NOTA - Ciclo for vs Pythonist"
   ]
  },
  {
   "cell_type": "markdown",
   "metadata": {},
   "source": [
    "## confronto della soluzione for vs pythonist per step 4"
   ]
  },
  {
   "cell_type": "code",
   "execution_count": 197,
   "metadata": {},
   "outputs": [],
   "source": [
    "# con il ciclo for\n",
    "list_of_years = []\n",
    "for sample in list_of_dict:\n",
    "    y = sample[\"year\"]\n",
    "    list_of_years.append(y)\n",
    "\n",
    "year_min = min(list_of_years)\n",
    "year_max = max(list_of_years)\n",
    "\n",
    "# versione Pythonic\n",
    "list_of_years = [y[\"year\"] for y in list_of_dict] # nel caso mi servisse la list of years\n",
    "\n",
    "year_min = min(y[\"year\"] for y in list_of_dict)\n",
    "year_max = max(y[\"year\"] for y in list_of_dict)"
   ]
  },
  {
   "cell_type": "code",
   "execution_count": 198,
   "metadata": {},
   "outputs": [],
   "source": [
    "import numpy as np\n",
    "\n",
    "# con il ciclo for\n",
    "list_of_temp = []\n",
    "for sample in list_of_dict:\n",
    "    if sample[\"year\"] == 1995:\n",
    "        list_of_temp.append(sample[\"temp\"])\n",
    "\n",
    "temp_min = min(list_of_temp)\n",
    "temp_mean = np.mean(list_of_temp)\n",
    "temp_max = max(list_of_temp)\n",
    "\n",
    "# versione Pythonic\n",
    "list_of_temp = [sample[\"temp\"] for sample in list_of_dict if sample[\"year\"] == 1995]\n",
    "\n",
    "temp_min = min(sample[\"temp\"] for sample in list_of_dict if sample[\"year\"] == 1995)\n",
    "# temp_mean = np.mean(sample[\"temp\"] for sample in list_of_dict if sample[\"year\"] == 1995)\n",
    "# np.mean() si aspetta un array, lista o altra struttura iterabile,\n",
    "# ma se gli passi un generatore lo tratta come un singolo oggetto iterabile invece di iterarlo.\n",
    "temp_mean = np.mean(list(sample[\"temp\"] for sample in list_of_dict if sample[\"year\"] == 1995))\n",
    "temp_max = max(sample[\"temp\"] for sample in list_of_dict if sample[\"year\"] == 1995)"
   ]
  },
  {
   "cell_type": "markdown",
   "metadata": {},
   "source": [
    "## confronto della soluzione for vs pythonist per step 5"
   ]
  },
  {
   "cell_type": "code",
   "execution_count": 199,
   "metadata": {},
   "outputs": [],
   "source": [
    "import numpy as np\n",
    "\n",
    "# con il ciclo for\n",
    "list_of_temp = []\n",
    "for sample in list_of_dict:\n",
    "    if sample[\"month\"] == 1:\n",
    "        list_of_temp.append(sample[\"temp\"])\n",
    "\n",
    "temp_min = min(list_of_temp)\n",
    "temp_mean = np.mean(list_of_temp)\n",
    "temp_max = max(list_of_temp)\n",
    "\n",
    "# versione Pythonic\n",
    "list_of_temp = [sample[\"temp\"] for sample in list_of_dict if sample[\"month\"] == 1]\n",
    "\n",
    "temp_min = min(sample[\"temp\"] for sample in list_of_dict if sample[\"month\"] == 1)\n",
    "# temp_mean = np.mean(sample[\"temp\"] for sample in list_of_dict if sample[\"month\"] == 1)\n",
    "# np.mean() si aspetta un array, lista o altra struttura iterabile,\n",
    "# ma se gli passi un generatore lo tratta come un singolo oggetto iterabile invece di iterarlo.\n",
    "temp_mean = np.mean(list(sample[\"temp\"] for sample in list_of_dict if sample[\"month\"] == 1))\n",
    "temp_max = max(sample[\"temp\"] for sample in list_of_dict if sample[\"month\"] == 1)"
   ]
  }
 ],
 "metadata": {
  "kernelspec": {
   "display_name": "Python 3 (ipykernel)",
   "language": "python",
   "name": "python3"
  },
  "language_info": {
   "codemirror_mode": {
    "name": "ipython",
    "version": 3
   },
   "file_extension": ".py",
   "mimetype": "text/x-python",
   "name": "python",
   "nbconvert_exporter": "python",
   "pygments_lexer": "ipython3",
   "version": "3.12.2"
  }
 },
 "nbformat": 4,
 "nbformat_minor": 4
}
