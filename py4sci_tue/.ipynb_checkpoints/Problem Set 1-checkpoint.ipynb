{
 "cells": [
  {
   "cell_type": "markdown",
   "metadata": {},
   "source": [
    "# Problem Set 1 - DNA"
   ]
  },
  {
   "cell_type": "markdown",
   "metadata": {},
   "source": [
    "## Background"
   ]
  },
  {
   "cell_type": "markdown",
   "metadata": {},
   "source": [
    "This problem set is about DNA data and methods typically applied to this kind of data. As a reminder, [DNA](http://en.wikipedia.org/wiki/DNA) is a molecule that encodes genetic instructions for living organisms. DNA is typically found as a double-stranded helix, in which each strand corresponds to a sequence of *nucleotides*. Each nucleotide consists of a nucleobase (guanine, adenine, thymine, or cytosine) attached to sugars, which are in turn separated from each other by phosphate groups:\n",
    "\n",
    "<div style=\"text-align: center;\">\n",
    "    <img src=\"http://upload.wikimedia.org/wikipedia/commons/thumb/4/4c/DNA_Structure%2BKey%2BLabelled.pn_NoBB.png/492px-DNA_Structure%2BKey%2BLabelled.pn_NoBB.png\" width=\"400\">\n",
    "</div>\n",
    "\n",
    "\n",
    "(image from Wikipedia)\n",
    "\n",
    "The nucleobases are commonly referred to with the letters G (guanine), A (adenine), T (thymine), and C (cytosine). The nucleobases form pairs between the two strands: G pairs with C, and T pairs with A.\n",
    "\n",
    "DNA is therefore most commonly represented as a sequence of nucleobases, such as ``GATTACACCTCATTATAAA``.\n",
    "\n",
    "For more information about DNA, see the wikipedia page in [German](http://de.wikipedia.org/wiki/Desoxyribonukleinsäure) or [English](http://en.wikipedia.org/wiki/DNA).\n",
    "\n",
    "In this problem set, we will be working with fake genetic data, since real-life data often has added complications, but the functions and techniques uses here are the same or very similar to techniques used on real data."
   ]
  },
  {
   "cell_type": "markdown",
   "metadata": {},
   "source": [
    "## Part 1 (10 points)"
   ]
  },
  {
   "cell_type": "markdown",
   "metadata": {},
   "source": [
    "### Question 1 (6 points)"
   ]
  },
  {
   "cell_type": "markdown",
   "metadata": {},
   "source": [
    "The **reverse complement** of DNA is found by reversing the DNA sequence, then replacing each base by its complement (A is replaced by T, T is replaced by A, G is replaced by C, and C is replaced by G). For example, the reverse complement of ``ATGCGGC`` is ``GCCGCAT``\n",
    "\n",
    "Write a Python function ``reverse_complement`` that takes a DNA sequence as a string, and returns the reverse complement. Test your function by ensuring that ``reverse_complement('ATGCGGC')`` is ``'GCCGCAT'``, then find the reverse complement of the following sequence: \n",
    "\n",
    "    ATGCGCGGATCGTACCTAATCGATGGCATTAGCCGAGCCCGATTACGC \n",
    "    \n",
    "Print the result out using ``print``.\n",
    "\n",
    "Note that this function is **NOT** needed for the remaining questions below."
   ]
  },
  {
   "cell_type": "code",
   "execution_count": 1,
   "metadata": {},
   "outputs": [],
   "source": [
    "def reverse_complement(dna_seq: str) -> str:\n",
    "    reverse = ''\n",
    "    for char in dna_seq:\n",
    "        if char == 'A':\n",
    "            reverse += 'T'\n",
    "        elif char == 'T':\n",
    "            reverse += 'A'\n",
    "        elif char == 'G':\n",
    "            reverse += 'C'\n",
    "        elif char== 'C':\n",
    "            reverse += 'G'\n",
    "    return reverse "
   ]
  },
  {
   "cell_type": "code",
   "execution_count": 2,
   "metadata": {},
   "outputs": [
    {
     "name": "stdout",
     "output_type": "stream",
     "text": [
      "TACGCGCCTAGCATGGATTAGCTACCGTAATCGGCTCGGGCTAATGCG\n"
     ]
    }
   ],
   "source": [
    "dna_seq = \"ATGCGCGGATCGTACCTAATCGATGGCATTAGCCGAGCCCGATTACGC\"\n",
    "dna_rev = reverse_complement(dna_seq)\n",
    "print(dna_rev)"
   ]
  },
  {
   "cell_type": "code",
   "execution_count": 3,
   "metadata": {},
   "outputs": [
    {
     "data": {
      "text/plain": [
       "True"
      ]
     },
     "execution_count": 3,
     "metadata": {},
     "output_type": "execute_result"
    }
   ],
   "source": [
    "check = reverse_complement(dna_rev)\n",
    "dna_seq == check"
   ]
  },
  {
   "cell_type": "markdown",
   "metadata": {},
   "source": [
    "### Question 2 (4 points)"
   ]
  },
  {
   "cell_type": "markdown",
   "metadata": {},
   "source": [
    "[Ribonucleic acid (RNA)](http://en.wikipedia.org/wiki/RNA) is a family of large biological molecules that is *transcribed* from DNA by the [RNA Polymerase](http://en.wikipedia.org/wiki/RNA_polymerase) enzyme. It consists of a single strand of nucleotides that are identical to the ones found in DNA, with the exception of uracil (U), which replaces thymine (T).\n",
    "\n",
    "[Messenger RNA](http://en.wikipedia.org/wiki/Messenger_RNA) molecules (or mRNA) are a subset of RNA molecules that are used to pass information from DNA to [ribosomes](http://en.wikipedia.org/wiki/Ribosome), which then translates the mRNA to protein sequences.\n",
    "\n",
    "Write a Python function ``dna_to_mrna`` that takes a DNA sequence and returns the corresponding mRNA sequence. For example, the DNA sequence ``ATCGCGAT`` should produce the mRNA sequence ``AUCGCGAU`` (note that you do **not** need to find the reverse complement of the DNA here)"
   ]
  },
  {
   "cell_type": "code",
   "execution_count": 4,
   "metadata": {},
   "outputs": [],
   "source": [
    "def dna_to_mrna(dna_seq: str)->str:\n",
    "    mrna = ''\n",
    "    for char in dna_seq:\n",
    "        if char == 'T':\n",
    "            mrna += 'U'\n",
    "        else:\n",
    "            mrna += char\n",
    "    return mrna"
   ]
  },
  {
   "cell_type": "code",
   "execution_count": 5,
   "metadata": {},
   "outputs": [],
   "source": [
    "dna_seq = \"ATCGCGAT\"\n",
    "mrna = dna_to_mrna(dna_seq)"
   ]
  },
  {
   "cell_type": "code",
   "execution_count": 6,
   "metadata": {},
   "outputs": [
    {
     "data": {
      "text/plain": [
       "True"
      ]
     },
     "execution_count": 6,
     "metadata": {},
     "output_type": "execute_result"
    }
   ],
   "source": [
    "check = \"AUCGCGAU\"\n",
    "check == mrna"
   ]
  },
  {
   "cell_type": "markdown",
   "metadata": {},
   "source": [
    "## Part 2 (15 points)"
   ]
  },
  {
   "cell_type": "markdown",
   "metadata": {},
   "source": [
    "### Question 3 (8 points)"
   ]
  },
  {
   "cell_type": "markdown",
   "metadata": {},
   "source": [
    "When the mRNA is translated to a protein sequence, each set of three nucleotides, called a **codon**, is translated into a single amino acid. For example, the codon ``UUC`` translates to the amino acid *Phenylalanine*. Each amino acid can be represented by a single letter - for example Phenylalanine is represented by the letter ``F``. A protein, which is formed from a sequence of amino acids, can therefore be written as a sequence of letters in the same way as DNA or mRNA, but using more of the letters of the alphabet since there are more than four amino acids.\n",
    "\n",
    "The [data/problem_1_codons.txt](data/problem_1_codons.txt) file contains two columns. The first column gives a list of codons, and the second column gives the corresponding amino acid (represented by a single letter). Certain codons do not correspond to an amino acid, but instead indicate that the amino acid sequence is finished. These are indicated by ``Stop``.\n",
    "\n",
    "Write a function ``mrna_to_protein`` that takes an mRNA sequence (as a string) and returns the sequence of amino acids (as a string), stopping the first time a ``Stop`` codon is encountered. Make sure that the file is only read once when running the script (and not every time you want to translate a codon). You will likely need to use a Python dictionary to help.\n",
    "\n",
    "Finally, write a function ``dna_to_protein`` that takes a DNA sequence (as a string) and returns the sequence of amino acids (as a string), making use of the functions that you wrote previously.\n",
    "\n",
    "Print out the amino acid sequence for the following DNA sequence:\n",
    "\n",
    "    AATCTCTACGGAAGTAGGTCAGTACTGATCGATCAGTCGATCGGGCGGCGATTTCGATCTGATTGTACGGCGGGCTAG\n",
    "    "
   ]
  },
  {
   "cell_type": "code",
   "execution_count": 7,
   "metadata": {},
   "outputs": [],
   "source": [
    "with open(\"data/problem_1_codons.txt\", \"r\") as file:\n",
    "    lines = file.readlines()"
   ]
  },
  {
   "cell_type": "code",
   "execution_count": 8,
   "metadata": {},
   "outputs": [],
   "source": [
    "# Processa le informazioni e organizzale in un dizionario\n",
    "codon_dict = {}\n",
    "for line in lines:  # Salta le intestazioni\n",
    "    parts = line.split()\n",
    "    codon_name = parts[0]\n",
    "    amino_acid = parts[1]\n",
    "    codon_dict[codon_name] = amino_acid"
   ]
  },
  {
   "cell_type": "code",
   "execution_count": 9,
   "metadata": {},
   "outputs": [],
   "source": [
    "def mrna_to_protein(mrna_seq: str, codon_dict: dict) -> str:\n",
    "    protein = ''\n",
    "    for i in range(0, len(mrna_seq), 3):    \n",
    "        codon = mrna_seq[i:i+3] # Prende tre caratteri alla volta            \n",
    "        if codon_dict[codon] != \"Stop\":\n",
    "            protein += codon_dict[codon]\n",
    "        else:\n",
    "            protein += '*'\n",
    "\n",
    "    return protein"
   ]
  },
  {
   "cell_type": "code",
   "execution_count": 10,
   "metadata": {},
   "outputs": [
    {
     "data": {
      "text/plain": [
       "'IAI'"
      ]
     },
     "execution_count": 10,
     "metadata": {},
     "output_type": "execute_result"
    }
   ],
   "source": [
    "mrna_seq = \"AUCGCGAUC\"\n",
    "mrna_to_protein(mrna_seq, codon_dict)"
   ]
  },
  {
   "cell_type": "code",
   "execution_count": 11,
   "metadata": {},
   "outputs": [],
   "source": [
    "def dna_to_protein(dna_seq: str, codon_dict: dict) -> str:\n",
    "    mrna_seq = dna_to_mrna(dna_seq)\n",
    "    protein = mrna_to_protein(mrna_seq, codon_dict)\n",
    "    return protein"
   ]
  },
  {
   "cell_type": "code",
   "execution_count": 12,
   "metadata": {},
   "outputs": [
    {
     "name": "stdout",
     "output_type": "stream",
     "text": [
      "NLYGSRSVLIDQSIGRRFRSDCTAG*\n"
     ]
    }
   ],
   "source": [
    "dna_seq = \"AATCTCTACGGAAGTAGGTCAGTACTGATCGATCAGTCGATCGGGCGGCGATTTCGATCTGATTGTACGGCGGGCTAG\"\n",
    "print(dna_to_protein(dna_seq, codon_dict))"
   ]
  },
  {
   "cell_type": "markdown",
   "metadata": {},
   "source": [
    "### Question 4 (7 points)"
   ]
  },
  {
   "cell_type": "markdown",
   "metadata": {},
   "source": [
    "In the previous questions, we have been specifying the DNA sequence by hand, but DNA sequences are usually long and are stored in files. A common file format is the [FASTA format](http://en.wikipedia.org/wiki/FASTA_format) which looks similar to this:\n",
    "\n",
    "    >label1\n",
    "    ACTGTATCGATGCTAGCTACGTAGCTAGCTAGCTAGCTGACGTA\n",
    "    ACGATGTGCGAGGGTCATGGGACGCGAGCGAGTCTAGCACGATC\n",
    "    >label2\n",
    "    ACTGGGCTTGACTACGGCGGTATCTGACGGGCGAGCTGTACGAG\n",
    "    ACGGACTAGGGCGCGGCGGGGCGGATTTTCGAGTCGAGCGTTAT\n",
    "   \n",
    "The first line starts with a ``>`` which is immediately followed by a label (which might be the name of the gene for example). The sequence then starts on the second line, and may continue on several lines. It is common to limit the length of each line to 80, but this may vary from file to file. The sequence stops once either the file ends, or a line starts with ``>``, which indicates that a new sequence is being given. There may be any number of sequences in a file.\n",
    "\n",
    "Write a function ``read_fasta``, that takes the name of a file (as a string) and returns a Python dictionary containing all the sequences from the file, with the keys in the dictionary corresponding to the label. If a sequence is given over several lines, you should remove any line returns and spaces. You should then be able to access the DNA for ``label1`` with ``d['label1']`` for example (if ``d`` is the name of the dictionary).\n",
    "\n",
    "Use this function and the functions you have written above to read in the [data/problem_1_question_4.fasta](data/problem_1_question_4.fasta) file and print out, for each sequence, the label, followed by the **amino acid** sequence (not the DNA sequence!)."
   ]
  },
  {
   "cell_type": "code",
   "execution_count": 13,
   "metadata": {},
   "outputs": [],
   "source": [
    "def read_fasta(file_name:str)->dict:\n",
    "    with open(file_name, \"r\") as file:\n",
    "    \n",
    "        dna_dict = {}\n",
    "        sequence_name = []\n",
    "        sequence = []\n",
    "        sequence_line = \"\"\n",
    "        n_label = 1\n",
    "        \n",
    "        for line in file:\n",
    "            line = line.strip() # Remove leading/trailing whitespace\n",
    "            if line[0] == '>':\n",
    "                sequence_name.append(\"label\"+ str(n_label))\n",
    "                n_label +=1\n",
    "                if sequence_line != \"\":\n",
    "                    sequence.append(sequence_line)\n",
    "                    sequence_line = \"\"\n",
    "            else:\n",
    "                sequence_line += line\n",
    "        sequence.append(sequence_line)\n",
    "\n",
    "        for num_seq in range(len(sequence_name)):\n",
    "            dna_dict[sequence_name[num_seq]] = sequence[num_seq]\n",
    "\n",
    "        return dna_dict"
   ]
  },
  {
   "cell_type": "code",
   "execution_count": 14,
   "metadata": {},
   "outputs": [
    {
     "name": "stdout",
     "output_type": "stream",
     "text": [
      "label1: YKFAGYQAIIGPRPATSKGLRLTAIQWRHLRWPIICIPEEHWY*\n",
      "label2: RSFCTGHPSYCRLFFGRKMQSSFAPR*\n",
      "label3: RPERFGASRYTICVHVSDNPPVSTLLSKEQTGGA*\n",
      "label4: CMSSRNAITGCITCVGHIMGVRLYD*\n",
      "label5: TLITPLGYPGRIGELRGLVYVRGHHQVPSMCTYS*\n",
      "label6: CIEPELQATRVKATFSFASCPSDMFSKSPL*\n",
      "label7: CVARTGWQMRTAPVSFAPSPPINAPKRTPSIRWMSFLIP*\n",
      "label8: DPLRFSVGTERRGSALVFFILGGI*\n",
      "label9: LTFEFLARGDQFSTWWL*\n",
      "label10: PSENPNVSSRPPPMIFTDFT*\n",
      "label11: RALGATVNMLGYHVFPN*\n",
      "label12: RPFPAVCRIKFFWPYISIKEGSANASNTTNC*\n",
      "label13: LKGIIRCSDSNCSSPIFGPSQEIQM*\n",
      "label14: IMTNPTLNKDTA*\n",
      "label15: GQQHSMGTLYKM*\n",
      "label16: AIRCRVAIESDLTVVARLVYIVPCTPSDSRNYPNSSGFKPISKTQNL*\n",
      "label17: KCRRFRQTTTYKPCSCSVIRCTREQQD*\n",
      "label18: LELFGEDDTVE*\n",
      "label19: GLLPDSYRVSLSLQRTTLCLTIVCSGLCGLPDLMNLESRFHMQSVTF*\n",
      "label20: CASAYSPKGRAAKLVLLK*\n"
     ]
    }
   ],
   "source": [
    "file_name = \"data/problem_1_question_4.fasta\"\n",
    "dna_dict = read_fasta(file_name)\n",
    "for i in range(1,len(dna_dict)+1):\n",
    "    name = \"label\" + str(i)\n",
    "    print(f\"{\"label\"+str(i)}: {dna_to_protein(dna_dict[name], codon_dict)}\")"
   ]
  },
  {
   "cell_type": "markdown",
   "metadata": {},
   "source": [
    "## Part 3 (5 points)"
   ]
  },
  {
   "cell_type": "markdown",
   "metadata": {},
   "source": [
    "### Question 5 (3 points)"
   ]
  },
  {
   "cell_type": "markdown",
   "metadata": {},
   "source": [
    "Given several sequences with the same length, but which may include point mutations (i.e. individual nucleotides are changed), we want to try and find the most likely original sequence. For example, if we have the following sequences:\n",
    "\n",
    "    sequence 1: A C T C T\n",
    "    sequence 2: A C T C G\n",
    "    sequence 3: G C C C T\n",
    "    sequence 2: A C T C T\n",
    "    sequence 4: A T G C T\n",
    "    \n",
    "we can go through each position and find the most common nucleotide. To do this, we can first construct a matrix that looks like:\n",
    "    \n",
    "             A: 4 0 0 0 0\n",
    "             C: 0 4 1 5 0\n",
    "             G: 1 0 1 0 1\n",
    "             T: 0 1 3 0 4\n",
    "             \n",
    "which indicates how many nucleotides of each type are found at each position, and from this we can see that the most common first base is A, the most common second base is C, and so on. The most common sequence is then ``ACTCT``. This is the [**consensus sequence**](http://en.wikipedia.org/wiki/Consensus_sequence).\n",
    "\n",
    "Write a function ``consensus_sequence`` that takes a dictionary of sequences (such as the one returned by ``read_fasta``), and computes then returns the consensus sequence. Read the [data/problem_1_question_5.fasta](data/problem_1_question_5.fasta) file using the function you wrote previsouly, and print out the corresponding consensus sequence. All the sequences in this file are the same length."
   ]
  },
  {
   "cell_type": "code",
   "execution_count": 15,
   "metadata": {},
   "outputs": [],
   "source": [
    "file_name = \"data/problem_1_question_5.fasta\"\n",
    "dna_dict = read_fasta(file_name)"
   ]
  },
  {
   "cell_type": "code",
   "execution_count": 17,
   "metadata": {},
   "outputs": [
    {
     "data": {
      "text/plain": [
       "'GTACTACCCGATTAGCTGGCTACGATCGTTCCTTAA'"
      ]
     },
     "execution_count": 17,
     "metadata": {},
     "output_type": "execute_result"
    }
   ],
   "source": [
    "dna_dict[\"label1\"]"
   ]
  },
  {
   "cell_type": "code",
   "execution_count": 21,
   "metadata": {},
   "outputs": [],
   "source": [
    "import collections"
   ]
  },
  {
   "cell_type": "code",
   "execution_count": 23,
   "metadata": {},
   "outputs": [],
   "source": [
    "c = collections.Counter(dna_dict[\"label1\"])"
   ]
  },
  {
   "cell_type": "code",
   "execution_count": 31,
   "metadata": {},
   "outputs": [],
   "source": [
    "mc = c.most_common(1)"
   ]
  },
  {
   "cell_type": "code",
   "execution_count": 35,
   "metadata": {},
   "outputs": [
    {
     "data": {
      "text/plain": [
       "'T'"
      ]
     },
     "execution_count": 35,
     "metadata": {},
     "output_type": "execute_result"
    }
   ],
   "source": [
    "mc[0][0]"
   ]
  },
  {
   "cell_type": "code",
   "execution_count": 38,
   "metadata": {},
   "outputs": [
    {
     "data": {
      "text/plain": [
       "'G'"
      ]
     },
     "execution_count": 38,
     "metadata": {},
     "output_type": "execute_result"
    }
   ],
   "source": [
    "col = \"\"\n",
    "for label in dna_dict:\n",
    "    col += dna_dict[label][0]\n",
    "\n",
    "c = collections.Counter(col)\n",
    "\n",
    "mc = c.most_common(1)\n",
    "mc[0][0]\n"
   ]
  },
  {
   "cell_type": "code",
   "execution_count": 222,
   "metadata": {},
   "outputs": [
    {
     "data": {
      "text/plain": [
       "36"
      ]
     },
     "execution_count": 222,
     "metadata": {},
     "output_type": "execute_result"
    }
   ],
   "source": [
    "len(dna_dict[\"label1\"])"
   ]
  },
  {
   "cell_type": "code",
   "execution_count": 39,
   "metadata": {},
   "outputs": [],
   "source": [
    "def consensus_sequence(dna_dict:dict) -> str:\n",
    "    \n",
    "    consensus_sequence = \"\"\n",
    "    num_element_seq = len(dna_dict[\"label1\"])\n",
    "    \n",
    "    for seq_element in range(num_element_seq):\n",
    "        col = \"\"\n",
    "        for label in dna_dict:\n",
    "            col += dna_dict[label][seq_element]\n",
    "        c = collections.Counter(col)\n",
    "        mc = c.most_common(1)\n",
    "        consensus_sequence += mc[0][0]\n",
    "    return consensus_sequence"
   ]
  },
  {
   "cell_type": "code",
   "execution_count": 40,
   "metadata": {},
   "outputs": [],
   "source": [
    "ciao = consensus_sequence(dna_dict)"
   ]
  },
  {
   "cell_type": "code",
   "execution_count": 41,
   "metadata": {},
   "outputs": [
    {
     "name": "stdout",
     "output_type": "stream",
     "text": [
      "GTACTAGCCGATCAGCTAGCTACGATCGTACGTTAA\n"
     ]
    }
   ],
   "source": [
    "print(ciao)"
   ]
  },
  {
   "cell_type": "markdown",
   "metadata": {},
   "source": [
    "### Question 6 (2 points)"
   ]
  },
  {
   "cell_type": "markdown",
   "metadata": {},
   "source": [
    "In some cases, it is useful to be able to identify the longest common sub-sequence between two sequences. For example, in the sequences ``ACTGCT`` and ``TGCCCT``, the longest common sub-sequence is ``TGC`` (AC**TGC**T and **TGC**CCT). Note that these do not have to be at the same positon in each sequence.\n",
    "\n",
    "Write a function, ``longest_common_sequence``, that takes a dictionary of sequences (such as the one returned by ``read_fasta``) and returns the longest common sub-sequence found in all the sequences.\n",
    "\n",
    "Read the [data/problem_1_question_6.fasta](data/problem_1_question_6.fasta) file, and print out the longest common sequence between all the sequences."
   ]
  }
 ],
 "metadata": {
  "kernelspec": {
   "display_name": "Python 3 (ipykernel)",
   "language": "python",
   "name": "python3"
  },
  "language_info": {
   "codemirror_mode": {
    "name": "ipython",
    "version": 3
   },
   "file_extension": ".py",
   "mimetype": "text/x-python",
   "name": "python",
   "nbconvert_exporter": "python",
   "pygments_lexer": "ipython3",
   "version": "3.12.2"
  }
 },
 "nbformat": 4,
 "nbformat_minor": 4
}
